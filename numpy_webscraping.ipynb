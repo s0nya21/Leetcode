{
  "cells": [
    {
      "cell_type": "markdown",
      "metadata": {
        "id": "4aTtTr9R83H7"
      },
      "source": [
        "### <center>Numpy Homework"
      ]
    },
    {
      "cell_type": "code",
      "execution_count": null,
      "metadata": {
        "id": "sJYLkoZi83H_"
      },
      "outputs": [],
      "source": [
        "#Scrape edilmeli olan datalar:\n",
        "\n",
        "# telefon_marka     \n",
        "# telefon qiymet   \n",
        "# telefon_endirim   \n",
        "# telefon_kredit    \n",
        "\n",
        "#Qeyd olunan linkden melumatlari elde etdikden sonra ashagidaki analizleri heyata kecirmeye calishin:(NUMPY-dan istifade ederek)\n",
        "\n",
        "\n",
        "# 1) Kredit ve qiymet ile bagli sutunlarin tiplerini deyisherek int edin\n",
        "# 2) Qiymet sutunundaki melumatlara esasen en bahali 5 telefonu teyin edin\n",
        "# 3) Yeni bir sutun yaradaraq hemin sutunda ortalama qiymetden baha olanlari expensive, digerlerini cheap kimi qeyd etmeye calishin\n",
        "\n",
        "\n",
        "# Link -> https://www.bakuelectronics.az/catalog/telefonlar-qadcetler/smartfonlar-mobil-telefonlar/"
      ]
    },
    {
      "cell_type": "code",
      "execution_count": null,
      "metadata": {
        "id": "ssP1xsJU83IB",
        "outputId": "3df77a3e-11f9-44c3-f7ef-adce7b363d57"
      },
      "outputs": [
        {
          "name": "stdout",
          "output_type": "stream",
          "text": [
            "[3899.99, 4149.99, 4199.99, 4199.99, 4199.99]\n"
          ]
        }
      ],
      "source": [
        "# 1) Kredit ve qiymet ile bagli sutunlarin tiplerini deyisherek int edin\n",
        "import requests\n",
        "from bs4 import BeautifulSoup\n",
        "import numpy as np\n",
        "pr=[]\n",
        "kr=[]\n",
        "for i in range2,14):\n",
        "    link = 'https://www.bakuelectronics.az/catalog/telefonlar-qadcetler/smartfonlar-mobil-telefonlar/?page='+str(i)\n",
        "    res = requests.get(link)\n",
        "    soup = BeautifulSoup(res.text,'html.parser')\n",
        "    for qiymet in soup.findAll('div', class_ = 'product__price--cur'):\n",
        "        pr.append(qiymet.text)\n",
        "    for x in soup.find_all('span',{'class':'product__credit-price'}):\n",
        "        kr.append(x.text)\n",
        " \n",
        "prices=np.array(pr,dtype=float)\n",
        "#kredit=np.array(kr,dtype=float)\n",
        "#print(kredit)\n"
      ]
    },
    {
      "cell_type": "code",
      "execution_count": null,
      "metadata": {
        "id": "UymIjf2L83IE"
      },
      "outputs": [],
      "source": [
        "# 2) Qiymet sutunundaki melumatlara esasen en bahali 5 telefonu teyin edin\n",
        "s=sorted(prices)\n",
        "print(s[-5:])"
      ]
    },
    {
      "cell_type": "code",
      "execution_count": null,
      "metadata": {
        "id": "O8Scmajx83IE",
        "outputId": "b756528a-868f-47ad-da11-fd4620ecbdb7"
      },
      "outputs": [
        {
          "name": "stdout",
          "output_type": "stream",
          "text": [
            "1305.7858333333331\n"
          ]
        }
      ],
      "source": [
        "# 3) Yeni bir sutun yaradaraq hemin sutunda ortalama qiymetden baha olanlari expensive, digerlerini cheap kimi qeyd etmeye calishin\n",
        "ortalama=np.average(prices)\n",
        "print(ortalama)"
      ]
    },
    {
      "cell_type": "code",
      "execution_count": null,
      "metadata": {
        "id": "8_sk2Uc983IF",
        "outputId": "807b3961-0c2a-4d7c-b47c-172c24af5c84"
      },
      "outputs": [
        {
          "name": "stdout",
          "output_type": "stream",
          "text": [
            "['cheap' 'expensive' 'expensive' 'expensive' 'expensive' 'cheap' 'cheap'\n",
            " 'cheap' 'cheap' 'expensive' 'cheap' 'cheap' 'cheap' 'cheap' 'cheap'\n",
            " 'cheap' 'cheap' 'cheap' 'cheap' 'expensive' 'expensive' 'expensive'\n",
            " 'cheap' 'expensive' 'expensive' 'cheap' 'expensive' 'cheap' 'expensive'\n",
            " 'cheap' 'cheap' 'cheap' 'expensive' 'cheap' 'cheap' 'cheap' 'cheap'\n",
            " 'cheap' 'expensive' 'cheap' 'expensive' 'cheap' 'expensive' 'cheap'\n",
            " 'cheap' 'expensive' 'expensive' 'expensive' 'cheap' 'cheap' 'cheap'\n",
            " 'expensive' 'cheap' 'cheap' 'cheap' 'cheap' 'cheap' 'cheap' 'expensive'\n",
            " 'expensive' 'expensive' 'expensive' 'expensive' 'expensive' 'cheap'\n",
            " 'cheap' 'cheap' 'cheap' 'expensive' 'cheap' 'expensive' 'cheap' 'cheap'\n",
            " 'cheap' 'cheap' 'cheap' 'cheap' 'expensive' 'cheap' 'cheap' 'cheap'\n",
            " 'expensive' 'cheap' 'cheap' 'cheap' 'cheap' 'cheap' 'expensive' 'cheap'\n",
            " 'cheap' 'cheap' 'cheap' 'cheap' 'cheap' 'cheap' 'expensive' 'cheap'\n",
            " 'cheap' 'expensive' 'expensive' 'expensive' 'expensive' 'cheap' 'cheap'\n",
            " 'cheap' 'cheap' 'cheap' 'expensive' 'expensive' 'cheap' 'cheap' 'cheap'\n",
            " 'expensive' 'cheap' 'expensive' 'cheap' 'cheap' 'expensive' 'expensive'\n",
            " 'expensive' 'cheap' 'cheap' 'expensive' 'cheap' 'expensive' 'expensive'\n",
            " 'expensive' 'cheap' 'cheap' 'cheap' 'expensive' 'cheap' 'expensive'\n",
            " 'cheap' 'expensive' 'cheap' 'cheap' 'cheap' 'cheap' 'expensive' 'cheap'\n",
            " 'cheap' 'expensive' 'expensive' 'cheap' 'expensive' 'cheap' 'expensive'\n",
            " 'cheap' 'expensive' 'cheap' 'cheap' 'expensive' 'cheap' 'cheap' 'cheap'\n",
            " 'expensive' 'cheap' 'cheap' 'expensive' 'expensive' 'expensive' 'cheap'\n",
            " 'cheap' 'cheap' 'expensive' 'cheap' 'expensive' 'cheap' 'cheap' 'cheap'\n",
            " 'expensive' 'cheap' 'cheap' 'expensive' 'expensive' 'cheap' 'cheap'\n",
            " 'expensive' 'cheap' 'expensive' 'expensive' 'cheap' 'cheap' 'expensive'\n",
            " 'expensive' 'expensive' 'expensive' 'cheap' 'cheap' 'expensive'\n",
            " 'expensive' 'cheap' 'expensive' 'cheap' 'cheap' 'cheap' 'expensive'\n",
            " 'cheap' 'expensive' 'cheap' 'cheap' 'expensive' 'cheap' 'expensive'\n",
            " 'expensive' 'expensive' 'expensive' 'cheap' 'cheap' 'expensive' 'cheap'\n",
            " 'expensive' 'cheap' 'expensive' 'expensive' 'expensive' 'cheap' 'cheap'\n",
            " 'cheap' 'cheap' 'expensive' 'cheap' 'expensive' 'cheap' 'expensive'\n",
            " 'cheap' 'cheap' 'cheap' 'cheap' 'cheap' 'expensive' 'cheap' 'cheap'\n",
            " 'cheap' 'cheap' 'cheap' 'expensive' 'expensive' 'expensive']\n"
          ]
        }
      ],
      "source": [
        "result=[]\n",
        "netice=np.where(prices >ortalama, \"expensive\",\"cheap\")\n",
        "result=np.array(netice)\n",
        "print(result)"
      ]
    },
    {
      "cell_type": "code",
      "execution_count": null,
      "metadata": {
        "id": "dV8MON_Q83IF"
      },
      "outputs": [],
      "source": []
    }
  ],
  "metadata": {
    "colab": {
      "provenance": []
    },
    "kernelspec": {
      "display_name": "Python 3 (ipykernel)",
      "language": "python",
      "name": "python3"
    },
    "language_info": {
      "codemirror_mode": {
        "name": "ipython",
        "version": 3
      },
      "file_extension": ".py",
      "mimetype": "text/x-python",
      "name": "python",
      "nbconvert_exporter": "python",
      "pygments_lexer": "ipython3",
      "version": "3.9.12"
    }
  },
  "nbformat": 4,
  "nbformat_minor": 0
}